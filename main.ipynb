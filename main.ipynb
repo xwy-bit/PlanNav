{
 "cells": [
  {
   "cell_type": "code",
   "execution_count": 1,
   "metadata": {},
   "outputs": [
    {
     "name": "stderr",
     "output_type": "stream",
     "text": [
      "/data1/xuwy/miniconda3/envs/plannav/lib/python3.8/site-packages/tqdm/auto.py:22: TqdmWarning: IProgress not found. Please update jupyter and ipywidgets. See https://ipywidgets.readthedocs.io/en/stable/user_install.html\n",
      "  from .autonotebook import tqdm as notebook_tqdm\n"
     ]
    }
   ],
   "source": [
    "from configs.get_config import _C as config\n",
    "from utils.self_play import SelfPlay\n",
    "import habitat"
   ]
  },
  {
   "cell_type": "code",
   "execution_count": 2,
   "metadata": {},
   "outputs": [
    {
     "name": "stdout",
     "output_type": "stream",
     "text": [
      "author: Xu wayen\n",
      "max_moves: 1000\n",
      "name: default\n",
      "output_path: 20230208_15-4509\n",
      "seed: 1958\n",
      "success_distance: 1.0\n",
      "training_steps: 20\n",
      "use_office_reward: True\n"
     ]
    }
   ],
   "source": [
    "print(config)"
   ]
  },
  {
   "cell_type": "code",
   "execution_count": 3,
   "metadata": {},
   "outputs": [
    {
     "name": "stderr",
     "output_type": "stream",
     "text": [
      "2023-02-08 15:45:11,266 Initializing dataset PointNav-v1\n",
      "2023-02-08 15:45:25,073 initializing sim Sim-v0\n",
      "[15:45:25:514018]:[Assets] ResourceManager.cpp(355)::loadSemanticSceneDescriptor : SSD File Naming Issue! Neither SceneInstanceAttributes-provided name : data/scene_datasets/gibson/Hainesburg.scn  nor constructed filename : data/scene_datasets/gibson/info_semantic.json exist on disk.\n",
      "2023-02-08 15:45:29,163 Initializing task Nav-v0\n"
     ]
    },
    {
     "name": "stdout",
     "output_type": "stream",
     "text": [
      "[15:45:25:079524]:[Metadata] AttributesManagerBase.h(380)::createFromJsonOrDefaultInternal : <Dataset>: Proposing JSON name : default.scene_dataset_config.json from original name : default| This file does not exist.\n",
      "[15:45:25:079624]:[Metadata] AssetAttributesManager.cpp(123)::createObject : Asset attributes (capsule3DSolid:capsule3DSolid_hemiRings_4_cylRings_1_segments_12_halfLen_0.75_useTexCoords_false_useTangents_false) created and registered.\n",
      "[15:45:25:079653]:[Metadata] AssetAttributesManager.cpp(123)::createObject : Asset attributes (capsule3DWireframe:capsule3DWireframe_hemiRings_8_cylRings_1_segments_16_halfLen_1) created and registered.\n",
      "[15:45:25:079676]:[Metadata] AssetAttributesManager.cpp(123)::createObject : Asset attributes (coneSolid:coneSolid_segments_12_halfLen_1.25_rings_1_useTexCoords_false_useTangents_false_capEnd_true) created and registered.\n",
      "[15:45:25:079697]:[Metadata] AssetAttributesManager.cpp(123)::createObject : Asset attributes (coneWireframe:coneWireframe_segments_32_halfLen_1.25) created and registered.\n",
      "[15:45:25:079713]:[Metadata] AssetAttributesManager.cpp(123)::createObject : Asset attributes (cubeSolid:cubeSolid) created and registered.\n",
      "[15:45:25:079728]:[Metadata] AssetAttributesManager.cpp(123)::createObject : Asset attributes (cubeWireframe:cubeWireframe) created and registered.\n",
      "[15:45:25:079748]:[Metadata] AssetAttributesManager.cpp(123)::createObject : Asset attributes (cylinderSolid:cylinderSolid_rings_1_segments_12_halfLen_1_useTexCoords_false_useTangents_false_capEnds_true) created and registered.\n",
      "[15:45:25:079766]:[Metadata] AssetAttributesManager.cpp(123)::createObject : Asset attributes (cylinderWireframe:cylinderWireframe_rings_1_segments_32_halfLen_1) created and registered.\n",
      "[15:45:25:079783]:[Metadata] AssetAttributesManager.cpp(123)::createObject : Asset attributes (icosphereSolid:icosphereSolid_subdivs_1) created and registered.\n",
      "[15:45:25:079800]:[Metadata] AssetAttributesManager.cpp(123)::createObject : Asset attributes (icosphereWireframe:icosphereWireframe_subdivs_1) created and registered.\n",
      "[15:45:25:079817]:[Metadata] AssetAttributesManager.cpp(123)::createObject : Asset attributes (uvSphereSolid:uvSphereSolid_rings_8_segments_16_useTexCoords_false_useTangents_false) created and registered.\n",
      "[15:45:25:079833]:[Metadata] AssetAttributesManager.cpp(123)::createObject : Asset attributes (uvSphereWireframe:uvSphereWireframe_rings_16_segments_32) created and registered.\n",
      "[15:45:25:079843]:[Metadata] AssetAttributesManager.cpp(112)::AssetAttributesManager : Built default primitive asset templates : 12\n",
      "[15:45:25:080085]:[Metadata] SceneDatasetAttributesManager.cpp(37)::createObject : File (default) not found, so new default dataset attributes created  and registered.\n",
      "[15:45:25:080094]:[Metadata] MetadataMediator.cpp(120)::createSceneDataset : Dataset default successfully created.\n",
      "[15:45:25:080104]:[Metadata] AttributesManagerBase.h(380)::createFromJsonOrDefaultInternal : <Physics Manager>: Proposing JSON name : ./data/default.physics_config.json from original name : ./data/default.physics_config.json| This file does not exist.\n",
      "[15:45:25:080119]:[Metadata] PhysicsAttributesManager.cpp(26)::createObject : File (./data/default.physics_config.json) not found, so new default physics manager attributes created and registered.\n",
      "[15:45:25:080126]:[Metadata] MetadataMediator.cpp(203)::setActiveSceneDatasetName : Previous active dataset  changed to default successfully.\n",
      "[15:45:25:080133]:[Metadata] MetadataMediator.cpp(175)::setCurrPhysicsAttributesHandle : Old physics manager attributes  changed to ./data/default.physics_config.json successfully.\n",
      "[15:45:25:080141]:[Metadata] MetadataMediator.cpp(66)::setSimulatorConfiguration : Set new simulator config for scene/stage : data/scene_datasets/gibson/Hainesburg.glb and dataset : default which is currently active dataset.\n",
      "Renderer: NVIDIA GeForce RTX 3090/PCIe/SSE2 by NVIDIA Corporation\n",
      "OpenGL version: 4.6.0 NVIDIA 510.73.05\n",
      "Using optional features:\n",
      "    GL_ARB_vertex_array_object\n",
      "    GL_ARB_ES2_compatibility\n",
      "    GL_ARB_separate_shader_objects\n",
      "    GL_ARB_robustness\n",
      "    GL_ARB_texture_storage\n",
      "    GL_ARB_invalidate_subdata\n",
      "    GL_ARB_texture_storage_multisample\n",
      "    GL_ARB_multi_bind\n",
      "    GL_ARB_direct_state_access\n",
      "    GL_ARB_get_texture_sub_image\n",
      "    GL_ARB_texture_filter_anisotropic\n",
      "    GL_KHR_debug\n",
      "    GL_KHR_parallel_shader_compile\n",
      "Using driver workarounds:\n",
      "    no-forward-compatible-core-context\n",
      "    nv-egl-incorrect-gl11-function-pointers\n",
      "    no-layout-qualifiers-on-old-glsl\n",
      "    nv-zero-context-profile-mask\n",
      "    nv-implementation-color-read-format-dsa-broken\n",
      "    nv-cubemap-inconsistent-compressed-image-size\n",
      "    nv-cubemap-broken-full-compressed-image-query\n",
      "    nv-compressed-block-size-in-bits\n",
      "[15:45:25:513690]:[Metadata] MetadataMediator.cpp(297)::getSceneInstanceAttributesByName : Dataset : default has no preloaded SceneInstanceAttributes or StageAttributes named : data/scene_datasets/gibson/Hainesburg.glb so loading/creating a new StageAttributes with this name, and then creating a SceneInstanceAttributes with the same name that references this stage.\n",
      "[15:45:25:513714]:[Metadata] AttributesManagerBase.h(380)::createFromJsonOrDefaultInternal : <Stage Template>: Proposing JSON name : data/scene_datasets/gibson/Hainesburg.stage_config.json from original name : data/scene_datasets/gibson/Hainesburg.glb| This file does not exist.\n",
      "[15:45:25:513777]:[Metadata] AbstractObjectAttributesManagerBase.h(184)::createObject : File (data/scene_datasets/gibson/Hainesburg.glb) exists but is not a recognized config filename extension, so new default Stage Template attributes created and registered.\n",
      "[15:45:25:513824]:[Metadata] SceneDatasetAttributes.cpp(47)::addNewSceneInstanceToDataset : Dataset : 'default' : Stage Attributes 'data/scene_datasets/gibson/Hainesburg.glb' specified in Scene Attributes exists in dataset library.\n",
      "[15:45:25:513831]:[Metadata] SceneDatasetAttributes.cpp(84)::addNewSceneInstanceToDataset : Dataset : 'default' : Lighting Layout Attributes 'no_lights' specified in Scene Attributes but does not exist in dataset, so creating.\n",
      "[15:45:25:513841]:[Metadata] AttributesManagerBase.h(380)::createFromJsonOrDefaultInternal : <Lighting Layout>: Proposing JSON name : no_lights.lighting_config.json from original name : no_lights| This file does not exist.\n",
      "[15:45:25:513857]:[Metadata] LightLayoutAttributesManager.cpp(38)::createObject : File (no_lights) not found, so new default light layout attributes created and registered.\n",
      "[15:45:25:513867]:[Sim] Simulator.cpp(240)::createSceneInstance : Navmesh file location in scene instance : data/scene_datasets/gibson/Hainesburg.navmesh\n",
      "[15:45:25:513880]:[Sim] Simulator.cpp(245)::createSceneInstance : Loading navmesh from data/scene_datasets/gibson/Hainesburg.navmesh\n",
      "[15:45:25:513899]:[Nav] PathFinder.cpp(1032)::loadNavMesh : NavMeshSettings aren't present, guessing that they are the default\n",
      "[15:45:25:513982]:[Sim] Simulator.cpp(247)::createSceneInstance : Navmesh Loaded.\n",
      "[15:45:25:514000]:[Scene] SceneGraph.h(85)::createDrawableGroup : Created DrawableGroup: \n",
      "[15:45:25:514008]:[Assets] ResourceManager.cpp(308)::loadSemanticSceneDescriptor : SceneInstance : data/scene_datasets/gibson/Hainesburg.glb proposed Semantic Scene Descriptor filename : data/scene_datasets/gibson/Hainesburg.scn\n",
      "[15:45:25:514042]:[Assets] ResourceManager.cpp(1666)::configureImporterManagerGLExtensions : Importing Basis files as BC7.\n",
      "[15:45:25:514228]:[Sim] Simulator.cpp(305)::createSceneInstance : Using scene instance-specified Light key : - no_lights -\n",
      "[15:45:25:514241]:[Metadata] MetadataMediator.cpp(66)::setSimulatorConfiguration : Set new simulator config for scene/stage : data/scene_datasets/gibson/Hainesburg.glb and dataset : default which is currently active dataset.\n",
      "[15:45:25:514262]:[Sim] Simulator.cpp(415)::instanceStageForSceneAttributes : Start to load stage named : data/scene_datasets/gibson/Hainesburg.glb with render asset : data/scene_datasets/gibson/Hainesburg.glb and collision asset : data/scene_datasets/gibson/Hainesburg.glb\n",
      "[15:45:25:514306]:[Assets] ResourceManager.cpp(702)::createStageAssetInfosFromAttributes : Frame :{\"up\":[0,0,1],\"front\":[0,1,0],\"origin\":[0,0,0]} for render mesh named : data/scene_datasets/gibson/Hainesburg.glb|{\"up\":[0,0,1],\"front\":[0,1,0],\"origin\":[0,0,0]} for semantic mesh named :  with type specified as semantic|Semantic Txtrs : False\n",
      "[15:45:25:514314]:[Assets] ResourceManager.cpp(518)::loadStage : Start load render asset data/scene_datasets/gibson/Hainesburg.glb .\n",
      "[15:45:25:514320]:[Assets] ResourceManager.cpp(984)::loadStageInternal : Attempting to load stage data/scene_datasets/gibson/Hainesburg.glb \n",
      "[15:45:25:514330]:[Assets] ResourceManager.cpp(866)::loadRenderAsset : Loading general asset named: data/scene_datasets/gibson/Hainesburg.glb\n",
      "[15:45:25:514335]:[Assets] ResourceManager.cpp(1666)::configureImporterManagerGLExtensions : Importing Basis files as BC7.\n",
      "[15:45:29:130605]:[Assets] ResourceManager.cpp(2105)::loadMaterials : Building 2 materials for asset named 'Hainesburg.glb' : \n",
      "[15:45:29:130667]:[Assets] ResourceManager.cpp(2210)::loadMaterials : Idx 00:Flat.\n",
      "[15:45:29:130684]:[Assets] ResourceManager.cpp(2210)::loadMaterials : Idx 01:Flat.\n",
      "[15:45:29:160523]:[Sim] Simulator.cpp(442)::instanceStageForSceneAttributes : Successfully loaded stage named : data/scene_datasets/gibson/Hainesburg.glb\n",
      "[15:45:29:160573]:[Sim] Simulator.cpp(208)::reconfigure : CreateSceneInstance success == true for active scene name : data/scene_datasets/gibson/Hainesburg.glb  with renderer.\n"
     ]
    },
    {
     "name": "stderr",
     "output_type": "stream",
     "text": [
      "[15:45:29:160553]:[Sim] Simulator.cpp(474)::instanceStageForSceneAttributes : \n",
      "---\n",
      "The active scene does not contain semantic annotations : activeSemanticSceneID_ = 0  \n",
      "---\n"
     ]
    }
   ],
   "source": [
    "self_play_worker = SelfPlay(config,'configs/habitat_default.yaml',config.seed)"
   ]
  }
 ],
 "metadata": {
  "kernelspec": {
   "display_name": "plannav",
   "language": "python",
   "name": "python3"
  },
  "language_info": {
   "codemirror_mode": {
    "name": "ipython",
    "version": 3
   },
   "file_extension": ".py",
   "mimetype": "text/x-python",
   "name": "python",
   "nbconvert_exporter": "python",
   "pygments_lexer": "ipython3",
   "version": "3.8.16"
  },
  "orig_nbformat": 4,
  "vscode": {
   "interpreter": {
    "hash": "ef0bc40c6d7f8bcc00f282aba7c38e1dbd7f25783b9e65afa0843a325d4912d9"
   }
  }
 },
 "nbformat": 4,
 "nbformat_minor": 2
}
